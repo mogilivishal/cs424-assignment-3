{
 "cells": [
  {
   "cell_type": "markdown",
   "id": "e229162c",
   "metadata": {},
   "source": [
    "Importing the required packages"
   ]
  },
  {
   "cell_type": "code",
   "execution_count": 16,
   "id": "d66c2d34",
   "metadata": {},
   "outputs": [],
   "source": [
    "import pandas as pd\n",
    "import geopandas as gpd\n",
    "import seaborn as sns\n",
    "import matplotlib.pyplot as plt"
   ]
  },
  {
   "cell_type": "markdown",
   "id": "320b2d5f",
   "metadata": {},
   "source": [
    "Loading the dataset and removing all the rows with missing values"
   ]
  },
  {
   "cell_type": "code",
   "execution_count": 17,
   "id": "73723361",
   "metadata": {},
   "outputs": [
    {
     "name": "stdout",
     "output_type": "stream",
     "text": [
      "                     TIME  SEGMENT_ID  SPEED               STREET DIRECTION  \\\n",
      "0  11/20/2020 11:10:58 AM      1171.0   23.0               Harlem        SB   \n",
      "1  11/20/2020 11:10:26 AM       176.0   -1.0             Garfield        WB   \n",
      "2  11/20/2020 11:10:29 AM        37.0   18.0              Pulaski        NB   \n",
      "3  11/20/2020 11:10:44 AM       719.0   24.0  Dr Martin L King Jr        SB   \n",
      "4  11/20/2020 11:10:55 AM       495.0   -1.0               Archer        EB   \n",
      "\n",
      "  FROM_STREET TO_STREET  LENGTH STREET_HEADING             COMMENTS  ...  \\\n",
      "0   North Ave   Chicago    1.01              N  Outside City Limits  ...   \n",
      "1     Ashland     Damen    0.50              W                  NaN  ...   \n",
      "2        31st      26th    0.50              S                  NaN  ...   \n",
      "3        24th      26th    0.26              S                  NaN  ...   \n",
      "4     Central   Laramie    0.51              S                  NaN  ...   \n",
      "\n",
      "   HOUR  DAY_OF_WEEK  MONTH          RECORD_ID  START_LATITUDE  \\\n",
      "0  11.0          6.0   11.0  1171-202011201710       41.908856   \n",
      "1  11.0          6.0   11.0  0176-202011201710       41.794162   \n",
      "2  11.0          6.0   11.0  0037-202011201710       41.836881   \n",
      "3  11.0          6.0   11.0  0719-202011201710       41.849341   \n",
      "4  11.0          6.0   11.0  0495-202011201710       41.795574   \n",
      "\n",
      "  START_LONGITUDE  END_LATITUDE  END_LONGITUDE  \\\n",
      "0      -87.805954     41.894268     -87.805501   \n",
      "1      -87.664580     41.794054     -87.674299   \n",
      "2      -87.724167     41.844254     -87.724440   \n",
      "3      -87.618501     41.845700     -87.617659   \n",
      "4      -87.762403     41.797089     -87.752657   \n",
      "\n",
      "                         START_LOCATION                          END_LOCATION  \n",
      "0  POINT (-87.8059536529 41.9088560337)  POINT (-87.8055007941 41.8942683013)  \n",
      "1  POINT (-87.6645803881 41.7941615692)  POINT (-87.6742991606 41.7940535229)  \n",
      "2  POINT (-87.7241670914 41.8368812942)  POINT (-87.7244396463 41.8442541875)  \n",
      "3  POINT (-87.6185005579 41.8493409786)  POINT (-87.6176590907 41.8456997096)  \n",
      "4  POINT (-87.7624030192 41.7955741737)  POINT (-87.7526573727 41.7970886104)  \n",
      "\n",
      "[5 rows x 22 columns]\n",
      "<class 'pandas.core.frame.DataFrame'>\n",
      "RangeIndex: 9317653 entries, 0 to 9317652\n",
      "Data columns (total 22 columns):\n",
      " #   Column           Dtype  \n",
      "---  ------           -----  \n",
      " 0   TIME             object \n",
      " 1   SEGMENT_ID       float64\n",
      " 2   SPEED            float64\n",
      " 3   STREET           object \n",
      " 4   DIRECTION        object \n",
      " 5   FROM_STREET      object \n",
      " 6   TO_STREET        object \n",
      " 7   LENGTH           float64\n",
      " 8   STREET_HEADING   object \n",
      " 9   COMMENTS         object \n",
      " 10  BUS_COUNT        float64\n",
      " 11  MESSAGE_COUNT    float64\n",
      " 12  HOUR             float64\n",
      " 13  DAY_OF_WEEK      float64\n",
      " 14  MONTH            float64\n",
      " 15  RECORD_ID        object \n",
      " 16  START_LATITUDE   float64\n",
      " 17  START_LONGITUDE  float64\n",
      " 18  END_LATITUDE     float64\n",
      " 19  END_LONGITUDE    float64\n",
      " 20  START_LOCATION   object \n",
      " 21  END_LOCATION     object \n",
      "dtypes: float64(12), object(10)\n",
      "memory usage: 1.5+ GB\n",
      "None\n",
      "         SEGMENT_ID         SPEED        LENGTH     BUS_COUNT  MESSAGE_COUNT  \\\n",
      "count  9.317649e+06  9.317649e+06  9.317649e+06  9.317649e+06   9.317649e+06   \n",
      "mean   5.951912e+02  1.485652e+01  5.272187e-01  1.050886e+00   7.906619e+00   \n",
      "std    3.796086e+02  1.388226e+01  1.820371e-01  1.380932e+00   1.134285e+01   \n",
      "min    1.000000e+00 -1.000000e+00  7.000000e-02  0.000000e+00   0.000000e+00   \n",
      "25%    2.710000e+02 -1.000000e+00  5.000000e-01  0.000000e+00   0.000000e+00   \n",
      "50%    5.490000e+02  2.000000e+01  5.000000e-01  1.000000e+00   5.000000e+00   \n",
      "75%    8.900000e+02  2.500000e+01  5.300000e-01  1.000000e+00   1.200000e+01   \n",
      "max    1.309000e+03  6.400000e+01  1.540000e+00  3.000000e+01   3.610000e+02   \n",
      "\n",
      "               HOUR   DAY_OF_WEEK         MONTH  START_LATITUDE  \\\n",
      "count  9.317649e+06  9.317649e+06  9.317649e+06    9.317649e+06   \n",
      "mean   1.150159e+01  4.015947e+00  8.557732e+00    4.184993e+01   \n",
      "std    6.927559e+00  2.063758e+00  3.625429e+00    8.563281e-02   \n",
      "min    0.000000e+00  1.000000e+00  1.000000e+00    4.165897e+01   \n",
      "25%    5.000000e+00  2.000000e+00  9.000000e+00    4.178594e+01   \n",
      "50%    1.200000e+01  4.000000e+00  1.000000e+01    4.185991e+01   \n",
      "75%    1.700000e+01  6.000000e+00  1.100000e+01    4.191063e+01   \n",
      "max    2.300000e+01  7.000000e+00  1.200000e+01    4.201283e+01   \n",
      "\n",
      "       START_LONGITUDE  END_LATITUDE  END_LONGITUDE  \n",
      "count     9.317649e+06  9.317649e+06   9.317649e+06  \n",
      "mean     -8.768073e+01  4.184999e+01  -8.768074e+01  \n",
      "std       5.870232e-02  8.566950e-02   5.871464e-02  \n",
      "min      -8.783677e+01  4.165901e+01  -8.783683e+01  \n",
      "25%      -8.772486e+01  4.178594e+01  -8.772485e+01  \n",
      "50%      -8.766907e+01  4.185991e+01  -8.766905e+01  \n",
      "75%      -8.763563e+01  4.191063e+01  -8.763526e+01  \n",
      "max      -8.753505e+01  4.201283e+01  -8.753505e+01  \n",
      "['Harlem' 'Garfield' 'Pulaski' 'Dr Martin L King Jr' 'Archer'\n",
      " 'Stony Island' 'State' '79th' 'Cicero' '55th' 'Cermak' 'Halsted'\n",
      " 'Michigan' 'Milwaukee' 'Ewing' 'Broadway' 'Western' '87th' 'Roosevelt'\n",
      " 'Ashland' 'Congress' 'Columbus' 'Higgins' 'Lake Shore Dr' '111th' 'Ohio'\n",
      " 'North' 'LaSalle' 'Torrence' 'Peterson' 'Chicago' 'Irving Park' 'Wacker'\n",
      " 'Randolph' '95th' 'Washington' 'Pershing' '127th' 'Illinois' 'Warren'\n",
      " 'Harrison' 'Touhy' 'Caldwell' 'Grand' '130th' 'Cumberland' 'Ontario'\n",
      " 'Ridge' 'Clark' 'Madison' 'Indiana' 'Balbo' 'Fairbanks' 'Jefferson'\n",
      " '57th' 'Desplaines' 'Hollywood' 'Sheridan' 'Jackson' 'Monterey'\n",
      " 'Ramp To Cermak Rd' 'Elston' nan]\n",
      "(9317653, 22)\n"
     ]
    }
   ],
   "source": [
    "\n",
    "# Load the dataset\n",
    "df = pd.read_csv('Chicago_Traffic_Tracker_-_Historical_Congestion_Estimates_by_Segment_-_2018-Current.csv')\n",
    "\n",
    "# Data Exploration\n",
    "print(df.head())  # Displays the first few rows of the dataset\n",
    "print(df.info())  # Displays column data types and non-null counts\n",
    "print(df.describe())  # Displays summary statistics for numerical columns\n",
    "print(df['STREET'].unique())  # Displays unique values in the 'STREET' column\n",
    "print(df.shape)  # Displays the shape of the data before cleaning\n",
    "\n",
    "# Data Cleaning: Remove rows with missing values\n",
    "df_clean = df.dropna()"
   ]
  },
  {
   "cell_type": "code",
   "execution_count": 18,
   "id": "c833c80d",
   "metadata": {},
   "outputs": [],
   "source": [
    "df_clean1 = df_clean"
   ]
  },
  {
   "cell_type": "code",
   "execution_count": 19,
   "id": "23c608ab",
   "metadata": {},
   "outputs": [
    {
     "name": "stdout",
     "output_type": "stream",
     "text": [
      "(1130044, 22)\n"
     ]
    }
   ],
   "source": [
    "print(df_clean1.shape)"
   ]
  },
  {
   "cell_type": "markdown",
   "id": "f956f924",
   "metadata": {},
   "source": [
    "Checking if the SPEED column has any null values"
   ]
  },
  {
   "cell_type": "code",
   "execution_count": 20,
   "id": "da9f48ba",
   "metadata": {},
   "outputs": [
    {
     "name": "stdout",
     "output_type": "stream",
     "text": [
      "0          False\n",
      "19         False\n",
      "20         False\n",
      "39         False\n",
      "55         False\n",
      "           ...  \n",
      "9317625    False\n",
      "9317632    False\n",
      "9317635    False\n",
      "9317643    False\n",
      "9317646    False\n",
      "Name: SPEED, Length: 1130044, dtype: bool\n"
     ]
    }
   ],
   "source": [
    "print(df_clean1['SPEED'].isnull())"
   ]
  },
  {
   "cell_type": "markdown",
   "id": "69eecc9a",
   "metadata": {},
   "source": [
    "Checking if the LENGTH(Segmenth_length) column has any null values"
   ]
  },
  {
   "cell_type": "code",
   "execution_count": 21,
   "id": "a59ea984",
   "metadata": {},
   "outputs": [
    {
     "name": "stdout",
     "output_type": "stream",
     "text": [
      "0          False\n",
      "19         False\n",
      "20         False\n",
      "39         False\n",
      "55         False\n",
      "           ...  \n",
      "9317625    False\n",
      "9317632    False\n",
      "9317635    False\n",
      "9317643    False\n",
      "9317646    False\n",
      "Name: LENGTH, Length: 1130044, dtype: bool\n"
     ]
    }
   ],
   "source": [
    "print(df_clean1['LENGTH'].isnull())"
   ]
  },
  {
   "cell_type": "markdown",
   "id": "78989535",
   "metadata": {},
   "source": [
    "Checking if the SPEED column has any negative values"
   ]
  },
  {
   "cell_type": "code",
   "execution_count": 22,
   "id": "f0914e68",
   "metadata": {},
   "outputs": [],
   "source": [
    "negative_values_mask = df_clean1['SPEED'] < 0\n",
    "negative_values = df_clean1.loc[negative_values_mask, 'SPEED']"
   ]
  },
  {
   "cell_type": "markdown",
   "id": "76e7cf88",
   "metadata": {},
   "source": [
    "Considering only positive values"
   ]
  },
  {
   "cell_type": "code",
   "execution_count": 23,
   "id": "aff9c6cf",
   "metadata": {},
   "outputs": [],
   "source": [
    "df_clean_pos = df_clean1[df_clean1['SPEED'] >= 0]"
   ]
  },
  {
   "cell_type": "code",
   "execution_count": 24,
   "id": "317437aa",
   "metadata": {},
   "outputs": [
    {
     "name": "stdout",
     "output_type": "stream",
     "text": [
      "0          23.0\n",
      "19         26.0\n",
      "20         31.0\n",
      "39         21.0\n",
      "55         35.0\n",
      "           ... \n",
      "9317613    27.0\n",
      "9317616    20.0\n",
      "9317635    34.0\n",
      "9317643    32.0\n",
      "9317646    27.0\n",
      "Name: SPEED, Length: 627073, dtype: float64\n"
     ]
    }
   ],
   "source": [
    "print(df_clean_pos['SPEED'])"
   ]
  },
  {
   "cell_type": "markdown",
   "id": "d76dc978",
   "metadata": {},
   "source": [
    "Renaming the column names to source and target"
   ]
  },
  {
   "cell_type": "code",
   "execution_count": 25,
   "id": "3779332e",
   "metadata": {},
   "outputs": [],
   "source": [
    "import numpy as np\n",
    "selected_columns = ['LENGTH', 'SPEED']\n",
    "df_selected = df_clean_pos[selected_columns].copy()  # Ensure to use .copy() to avoid the warning\n",
    "\n",
    "# Renaming the selected columns\n",
    "df_selected.columns = ['source', 'target']"
   ]
  },
  {
   "cell_type": "code",
   "execution_count": 26,
   "id": "722ea361",
   "metadata": {},
   "outputs": [
    {
     "name": "stdout",
     "output_type": "stream",
     "text": [
      "         source  target\n",
      "0          1.01    23.0\n",
      "19         0.50    26.0\n",
      "20         0.50    31.0\n",
      "39         0.20    21.0\n",
      "55         0.50    35.0\n",
      "...         ...     ...\n",
      "9317613    0.50    27.0\n",
      "9317616    0.63    20.0\n",
      "9317635    0.91    34.0\n",
      "9317643    0.50    32.0\n",
      "9317646    0.49    27.0\n",
      "\n",
      "[627073 rows x 2 columns]\n"
     ]
    }
   ],
   "source": [
    "print(df_selected)"
   ]
  },
  {
   "cell_type": "markdown",
   "id": "176e760c",
   "metadata": {},
   "source": [
    "Sorting the dataframe according to the target(SPEED) column in descending order of SPEED"
   ]
  },
  {
   "cell_type": "code",
   "execution_count": 27,
   "id": "253805af",
   "metadata": {},
   "outputs": [],
   "source": [
    "df_sorted = df_selected.sort_values(by = 'target', ascending = False)"
   ]
  },
  {
   "cell_type": "code",
   "execution_count": 28,
   "id": "bd478ebb",
   "metadata": {},
   "outputs": [
    {
     "name": "stdout",
     "output_type": "stream",
     "text": [
      "         source  target\n",
      "6565068    1.54    47.0\n",
      "7852696    1.54    47.0\n",
      "6812102    1.54    47.0\n",
      "7462370    1.54    47.0\n",
      "6887168    1.54    47.0\n",
      "...         ...     ...\n",
      "8137929    0.25     0.0\n",
      "6306208    1.00     0.0\n",
      "7057138    0.56     0.0\n",
      "4369233    1.00     0.0\n",
      "6815159    0.25     0.0\n",
      "\n",
      "[627073 rows x 2 columns]\n"
     ]
    }
   ],
   "source": [
    "print(df_sorted)"
   ]
  },
  {
   "cell_type": "markdown",
   "id": "a6e8ccfe",
   "metadata": {},
   "source": [
    "Dropping the Duplicate values from both the columns"
   ]
  },
  {
   "cell_type": "code",
   "execution_count": 29,
   "id": "7a70029d",
   "metadata": {},
   "outputs": [],
   "source": [
    "df_unique = df_sorted.drop_duplicates(subset=['target', 'source'])"
   ]
  },
  {
   "cell_type": "markdown",
   "id": "dbc75d89",
   "metadata": {},
   "source": [
    "Getting only the unique values"
   ]
  },
  {
   "cell_type": "code",
   "execution_count": 30,
   "id": "03013744",
   "metadata": {},
   "outputs": [
    {
     "name": "stdout",
     "output_type": "stream",
     "text": [
      "         source  target\n",
      "6565068    1.54    47.0\n",
      "6211402    1.23    46.0\n",
      "3644527    1.54    46.0\n",
      "6217433    0.50    45.0\n",
      "7892615    1.02    45.0\n",
      "...         ...     ...\n",
      "7749664    0.49     0.0\n",
      "6918286    0.43     0.0\n",
      "8175651    0.91     0.0\n",
      "2154339    0.63     0.0\n",
      "5387893    1.23     0.0\n",
      "\n",
      "[852 rows x 2 columns]\n"
     ]
    }
   ],
   "source": [
    "print(df_unique)"
   ]
  },
  {
   "cell_type": "markdown",
   "id": "62271dc1",
   "metadata": {},
   "source": [
    "Restricting the dataframe to get only top 100 rows"
   ]
  },
  {
   "cell_type": "code",
   "execution_count": 31,
   "id": "bf4821b7",
   "metadata": {},
   "outputs": [],
   "source": [
    "df_top_100 = df_unique.head(100)"
   ]
  },
  {
   "cell_type": "code",
   "execution_count": 32,
   "id": "5e9cc3dd",
   "metadata": {},
   "outputs": [
    {
     "name": "stdout",
     "output_type": "stream",
     "text": [
      "         source  target\n",
      "6565068    1.54    47.0\n",
      "6211402    1.23    46.0\n",
      "3644527    1.54    46.0\n",
      "6217433    0.50    45.0\n",
      "7892615    1.02    45.0\n",
      "...         ...     ...\n",
      "7750068    0.25    36.0\n",
      "5910832    1.01    36.0\n",
      "6606298    0.49    36.0\n",
      "511932     0.79    36.0\n",
      "744079     1.02    36.0\n",
      "\n",
      "[100 rows x 2 columns]\n"
     ]
    }
   ],
   "source": [
    "print(df_top_100)"
   ]
  },
  {
   "cell_type": "code",
   "execution_count": null,
   "id": "83e8fcbc",
   "metadata": {},
   "outputs": [],
   "source": []
  },
  {
   "cell_type": "markdown",
   "id": "be6d046e",
   "metadata": {},
   "source": [
    "Creating a new column by specifying the threshold depending on the target column values"
   ]
  },
  {
   "cell_type": "code",
   "execution_count": 38,
   "id": "56251456",
   "metadata": {},
   "outputs": [],
   "source": [
    "def create_value_column(row):\n",
    "    target = float(row['target'])\n",
    "    if target > 42:\n",
    "        return 0\n",
    "    elif 37 <= target <= 42:\n",
    "        return 1\n",
    "    else:\n",
    "        return 2"
   ]
  },
  {
   "cell_type": "markdown",
   "id": "4d6ba3db",
   "metadata": {},
   "source": [
    "New column called value is created with values 0, 1 and 2 (Not Congested, Congested and Extremely Congested)"
   ]
  },
  {
   "cell_type": "code",
   "execution_count": 43,
   "id": "44086b97",
   "metadata": {},
   "outputs": [
    {
     "name": "stderr",
     "output_type": "stream",
     "text": [
      "C:\\Users\\hpokal2\\AppData\\Local\\Temp\\ipykernel_4388\\995176387.py:1: SettingWithCopyWarning: \n",
      "A value is trying to be set on a copy of a slice from a DataFrame.\n",
      "Try using .loc[row_indexer,col_indexer] = value instead\n",
      "\n",
      "See the caveats in the documentation: https://pandas.pydata.org/pandas-docs/stable/user_guide/indexing.html#returning-a-view-versus-a-copy\n",
      "  df_top_100.loc[:, 'value'] = df_top_100.apply(create_value_column, axis=1)\n"
     ]
    }
   ],
   "source": [
    "df_top_100.loc[:, 'value'] = df_top_100.apply(create_value_column, axis=1)"
   ]
  },
  {
   "cell_type": "code",
   "execution_count": 44,
   "id": "b795d4dc",
   "metadata": {
    "scrolled": true
   },
   "outputs": [
    {
     "name": "stdout",
     "output_type": "stream",
     "text": [
      "         source  target  value\n",
      "6565068    1.54    47.0      0\n",
      "6211402    1.23    46.0      0\n",
      "3644527    1.54    46.0      0\n",
      "6217433    0.50    45.0      0\n",
      "7892615    1.02    45.0      0\n",
      "...         ...     ...    ...\n",
      "7750068    0.25    36.0      2\n",
      "5910832    1.01    36.0      2\n",
      "6606298    0.49    36.0      2\n",
      "511932     0.79    36.0      2\n",
      "744079     1.02    36.0      2\n",
      "\n",
      "[100 rows x 3 columns]\n"
     ]
    }
   ],
   "source": [
    "print(df_top_100)"
   ]
  },
  {
   "cell_type": "code",
   "execution_count": 45,
   "id": "e862c73b",
   "metadata": {},
   "outputs": [
    {
     "name": "stdout",
     "output_type": "stream",
     "text": [
      "source    float64\n",
      "target    float64\n",
      "value       int64\n",
      "dtype: object\n"
     ]
    }
   ],
   "source": [
    "print(df_top_100.dtypes)"
   ]
  },
  {
   "cell_type": "markdown",
   "id": "00ee42ac",
   "metadata": {},
   "source": [
    "Converting the dataframe to csv and downloading it to local"
   ]
  },
  {
   "cell_type": "code",
   "execution_count": 46,
   "id": "6c805c66",
   "metadata": {},
   "outputs": [],
   "source": [
    "df_top_100.to_csv('sankey.csv', index = False)"
   ]
  },
  {
   "cell_type": "markdown",
   "id": "81a87868",
   "metadata": {},
   "source": [
    "### Reference: https://hemanth-110500.github.io/visualizingGeneticMutation/"
   ]
  }
 ],
 "metadata": {
  "kernelspec": {
   "display_name": "Python 3 (ipykernel)",
   "language": "python",
   "name": "python3"
  },
  "language_info": {
   "codemirror_mode": {
    "name": "ipython",
    "version": 3
   },
   "file_extension": ".py",
   "mimetype": "text/x-python",
   "name": "python",
   "nbconvert_exporter": "python",
   "pygments_lexer": "ipython3",
   "version": "3.11.4"
  }
 },
 "nbformat": 4,
 "nbformat_minor": 5
}
